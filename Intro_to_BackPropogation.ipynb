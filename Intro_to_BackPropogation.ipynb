{
  "nbformat": 4,
  "nbformat_minor": 0,
  "metadata": {
    "colab": {
      "provenance": [],
      "collapsed_sections": [
        "AK5_MH5pqkMy"
      ],
      "authorship_tag": "ABX9TyN0/JmVftj3aQJkwGkM49x6",
      "include_colab_link": true
    },
    "kernelspec": {
      "name": "python3",
      "display_name": "Python 3"
    },
    "language_info": {
      "name": "python"
    }
  },
  "cells": [
    {
      "cell_type": "markdown",
      "metadata": {
        "id": "view-in-github",
        "colab_type": "text"
      },
      "source": [
        "<a href=\"https://colab.research.google.com/github/gsurend4/BackPropogration/blob/main/Intro_to_BackPropogation.ipynb\" target=\"_parent\"><img src=\"https://colab.research.google.com/assets/colab-badge.svg\" alt=\"Open In Colab\"/></a>"
      ]
    },
    {
      "cell_type": "code",
      "execution_count": 40,
      "metadata": {
        "id": "PmS4FeWTPDsw"
      },
      "outputs": [],
      "source": [
        "class Value:\n",
        "    def __init__(self, data, _children=(), _op='', label = ''):\n",
        "        self.data = data\n",
        "        self._prev = set(_children)\n",
        "        self._op = _op\n",
        "        self.label = label\n",
        "        self.grad = 0 # Intially setting there is no Impact of this Variable to the Output Function (loss). ex : y = 5\n",
        "\n",
        "    def __repr__(self):\n",
        "        return (f'Value(data = {self.data})')\n",
        "\n",
        "    def __add__(self, other):\n",
        "        out = Value(self.data + other.data, (self, other), '+')\n",
        "        return out\n",
        "\n",
        "    def __mul__(self, other):\n",
        "        out =  Value(self.data * other.data, (self, other), '*' )\n",
        "        return out"
      ]
    },
    {
      "cell_type": "code",
      "source": [
        "a = Value(2.0, label = 'a')\n",
        "b = Value(-3.0, label = 'b')\n",
        "c = Value(10, label = 'c')\n",
        "\n",
        "e = a*b; e.label = 'e'\n",
        "d = e + c; d.label = 'd' # (a.__mul__(b)).__add__(c) Interally python call this way\n",
        "\n",
        "f = Value(-2.0, label = 'f')\n",
        "\n",
        "L = d * f; L.label = 'L'\n",
        "\n",
        "L"
      ],
      "metadata": {
        "colab": {
          "base_uri": "https://localhost:8080/"
        },
        "id": "8g72I2_bPi2W",
        "outputId": "11d829e6-f218-4ee2-cb82-d388216150b5"
      },
      "execution_count": 41,
      "outputs": [
        {
          "output_type": "execute_result",
          "data": {
            "text/plain": [
              "Value(data = -8.0)"
            ]
          },
          "metadata": {},
          "execution_count": 41
        }
      ]
    },
    {
      "cell_type": "markdown",
      "source": [
        "### graphviz (Visualization)"
      ],
      "metadata": {
        "id": "AK5_MH5pqkMy"
      }
    },
    {
      "cell_type": "code",
      "source": [
        "# It is an API from graphviz\n",
        "\n",
        "from graphviz import Digraph\n",
        "\n",
        "def trace(root):\n",
        "  # builds a set of all nodes and edges in a graph\n",
        "  nodes, edges = set(), set()\n",
        "  def build(v):\n",
        "    if v not in nodes:\n",
        "      nodes.add(v)\n",
        "      for child in v._prev:\n",
        "        edges.add((child, v))\n",
        "        build(child)\n",
        "  build(root)\n",
        "  return nodes, edges\n",
        "\n",
        "def draw_dot(root):\n",
        "  dot = Digraph(format='svg', graph_attr={'rankdir': 'LR'}) # LR = left to right\n",
        "\n",
        "  nodes, edges = trace(root)\n",
        "  for n in nodes:\n",
        "    uid = str(id(n))\n",
        "    # for any value in the graph, create a rectangular ('record') node for it\n",
        "    dot.node(name = uid, label = \"{ %s | data %.4f | grad %.4f }\" % (n.label, n.data, n.grad), shape='record')\n",
        "    if n._op:\n",
        "      # if this value is a result of some operation, create an op node for it\n",
        "      dot.node(name = uid + n._op, label = n._op)\n",
        "      # and connect this node to it\n",
        "      dot.edge(uid + n._op, uid)\n",
        "\n",
        "  for n1, n2 in edges:\n",
        "    # connect n1 to the op node of n2\n",
        "    dot.edge(str(id(n1)), str(id(n2)) + n2._op)\n",
        "\n",
        "  return dot"
      ],
      "metadata": {
        "id": "0Yqz1TgjKJ-o"
      },
      "execution_count": 3,
      "outputs": []
    },
    {
      "cell_type": "markdown",
      "source": [
        "### Visualize"
      ],
      "metadata": {
        "id": "iuKgz7CBquqc"
      }
    },
    {
      "cell_type": "code",
      "source": [
        "draw_dot(L)"
      ],
      "metadata": {
        "colab": {
          "base_uri": "https://localhost:8080/",
          "height": 249
        },
        "id": "xjyyO3TvjFDA",
        "outputId": "9320418f-6cc0-4480-c89a-c22c45c304b5"
      },
      "execution_count": 43,
      "outputs": [
        {
          "output_type": "execute_result",
          "data": {
            "image/svg+xml": "<?xml version=\"1.0\" encoding=\"UTF-8\" standalone=\"no\"?>\n<!DOCTYPE svg PUBLIC \"-//W3C//DTD SVG 1.1//EN\"\n \"http://www.w3.org/Graphics/SVG/1.1/DTD/svg11.dtd\">\n<!-- Generated by graphviz version 2.43.0 (0)\n -->\n<!-- Title: %3 Pages: 1 -->\n<svg width=\"1157pt\" height=\"156pt\"\n viewBox=\"0.00 0.00 1157.00 156.00\" xmlns=\"http://www.w3.org/2000/svg\" xmlns:xlink=\"http://www.w3.org/1999/xlink\">\n<g id=\"graph0\" class=\"graph\" transform=\"scale(1 1) rotate(0) translate(4 152)\">\n<title>%3</title>\n<polygon fill=\"white\" stroke=\"transparent\" points=\"-4,4 -4,-152 1153,-152 1153,4 -4,4\"/>\n<!-- 140387518394832 -->\n<g id=\"node1\" class=\"node\">\n<title>140387518394832</title>\n<polygon fill=\"none\" stroke=\"black\" points=\"0,-111.5 0,-147.5 194,-147.5 194,-111.5 0,-111.5\"/>\n<text text-anchor=\"middle\" x=\"11.5\" y=\"-125.8\" font-family=\"Times,serif\" font-size=\"14.00\">b</text>\n<polyline fill=\"none\" stroke=\"black\" points=\"23,-111.5 23,-147.5 \"/>\n<text text-anchor=\"middle\" x=\"65.5\" y=\"-125.8\" font-family=\"Times,serif\" font-size=\"14.00\">data &#45;3.0000</text>\n<polyline fill=\"none\" stroke=\"black\" points=\"108,-111.5 108,-147.5 \"/>\n<text text-anchor=\"middle\" x=\"151\" y=\"-125.8\" font-family=\"Times,serif\" font-size=\"14.00\">grad &#45;4.0000</text>\n</g>\n<!-- 140387518388640* -->\n<g id=\"node8\" class=\"node\">\n<title>140387518388640*</title>\n<ellipse fill=\"none\" stroke=\"black\" cx=\"257\" cy=\"-101.5\" rx=\"27\" ry=\"18\"/>\n<text text-anchor=\"middle\" x=\"257\" y=\"-97.8\" font-family=\"Times,serif\" font-size=\"14.00\">*</text>\n</g>\n<!-- 140387518394832&#45;&gt;140387518388640* -->\n<g id=\"edge7\" class=\"edge\">\n<title>140387518394832&#45;&gt;140387518388640*</title>\n<path fill=\"none\" stroke=\"black\" d=\"M194.01,-112.49C203.35,-110.83 212.37,-109.23 220.49,-107.79\"/>\n<polygon fill=\"black\" stroke=\"black\" points=\"221.37,-111.19 230.6,-106 220.15,-104.3 221.37,-111.19\"/>\n</g>\n<!-- 140387518394592 -->\n<g id=\"node2\" class=\"node\">\n<title>140387518394592</title>\n<polygon fill=\"none\" stroke=\"black\" points=\"642,-55.5 642,-91.5 831,-91.5 831,-55.5 642,-55.5\"/>\n<text text-anchor=\"middle\" x=\"653.5\" y=\"-69.8\" font-family=\"Times,serif\" font-size=\"14.00\">d</text>\n<polyline fill=\"none\" stroke=\"black\" points=\"665,-55.5 665,-91.5 \"/>\n<text text-anchor=\"middle\" x=\"705\" y=\"-69.8\" font-family=\"Times,serif\" font-size=\"14.00\">data 4.0000</text>\n<polyline fill=\"none\" stroke=\"black\" points=\"745,-55.5 745,-91.5 \"/>\n<text text-anchor=\"middle\" x=\"788\" y=\"-69.8\" font-family=\"Times,serif\" font-size=\"14.00\">grad &#45;2.0000</text>\n</g>\n<!-- 140387518391760* -->\n<g id=\"node10\" class=\"node\">\n<title>140387518391760*</title>\n<ellipse fill=\"none\" stroke=\"black\" cx=\"894\" cy=\"-45.5\" rx=\"27\" ry=\"18\"/>\n<text text-anchor=\"middle\" x=\"894\" y=\"-41.8\" font-family=\"Times,serif\" font-size=\"14.00\">*</text>\n</g>\n<!-- 140387518394592&#45;&gt;140387518391760* -->\n<g id=\"edge4\" class=\"edge\">\n<title>140387518394592&#45;&gt;140387518391760*</title>\n<path fill=\"none\" stroke=\"black\" d=\"M831.1,-56.65C840.4,-54.97 849.38,-53.35 857.49,-51.89\"/>\n<polygon fill=\"black\" stroke=\"black\" points=\"858.37,-55.29 867.59,-50.07 857.13,-48.4 858.37,-55.29\"/>\n</g>\n<!-- 140387518394592+ -->\n<g id=\"node3\" class=\"node\">\n<title>140387518394592+</title>\n<ellipse fill=\"none\" stroke=\"black\" cx=\"579\" cy=\"-73.5\" rx=\"27\" ry=\"18\"/>\n<text text-anchor=\"middle\" x=\"579\" y=\"-69.8\" font-family=\"Times,serif\" font-size=\"14.00\">+</text>\n</g>\n<!-- 140387518394592+&#45;&gt;140387518394592 -->\n<g id=\"edge1\" class=\"edge\">\n<title>140387518394592+&#45;&gt;140387518394592</title>\n<path fill=\"none\" stroke=\"black\" d=\"M606.03,-73.5C613.66,-73.5 622.52,-73.5 631.94,-73.5\"/>\n<polygon fill=\"black\" stroke=\"black\" points=\"631.94,-77 641.94,-73.5 631.94,-70 631.94,-77\"/>\n</g>\n<!-- 140387518391040 -->\n<g id=\"node4\" class=\"node\">\n<title>140387518391040</title>\n<polygon fill=\"none\" stroke=\"black\" points=\"4.5,-56.5 4.5,-92.5 189.5,-92.5 189.5,-56.5 4.5,-56.5\"/>\n<text text-anchor=\"middle\" x=\"16\" y=\"-70.8\" font-family=\"Times,serif\" font-size=\"14.00\">a</text>\n<polyline fill=\"none\" stroke=\"black\" points=\"27.5,-56.5 27.5,-92.5 \"/>\n<text text-anchor=\"middle\" x=\"67.5\" y=\"-70.8\" font-family=\"Times,serif\" font-size=\"14.00\">data 2.0000</text>\n<polyline fill=\"none\" stroke=\"black\" points=\"107.5,-56.5 107.5,-92.5 \"/>\n<text text-anchor=\"middle\" x=\"148.5\" y=\"-70.8\" font-family=\"Times,serif\" font-size=\"14.00\">grad 6.0000</text>\n</g>\n<!-- 140387518391040&#45;&gt;140387518388640* -->\n<g id=\"edge8\" class=\"edge\">\n<title>140387518391040&#45;&gt;140387518388640*</title>\n<path fill=\"none\" stroke=\"black\" d=\"M189.91,-90.21C200.76,-92.06 211.28,-93.86 220.61,-95.45\"/>\n<polygon fill=\"black\" stroke=\"black\" points=\"220.16,-98.93 230.6,-97.16 221.34,-92.03 220.16,-98.93\"/>\n</g>\n<!-- 140387518387488 -->\n<g id=\"node5\" class=\"node\">\n<title>140387518387488</title>\n<polygon fill=\"none\" stroke=\"black\" points=\"642.5,-0.5 642.5,-36.5 830.5,-36.5 830.5,-0.5 642.5,-0.5\"/>\n<text text-anchor=\"middle\" x=\"653\" y=\"-14.8\" font-family=\"Times,serif\" font-size=\"14.00\">f</text>\n<polyline fill=\"none\" stroke=\"black\" points=\"663.5,-0.5 663.5,-36.5 \"/>\n<text text-anchor=\"middle\" x=\"706\" y=\"-14.8\" font-family=\"Times,serif\" font-size=\"14.00\">data &#45;2.0000</text>\n<polyline fill=\"none\" stroke=\"black\" points=\"748.5,-0.5 748.5,-36.5 \"/>\n<text text-anchor=\"middle\" x=\"789.5\" y=\"-14.8\" font-family=\"Times,serif\" font-size=\"14.00\">grad 4.0000</text>\n</g>\n<!-- 140387518387488&#45;&gt;140387518391760* -->\n<g id=\"edge5\" class=\"edge\">\n<title>140387518387488&#45;&gt;140387518391760*</title>\n<path fill=\"none\" stroke=\"black\" d=\"M830.65,-34.67C840.2,-36.33 849.43,-37.93 857.72,-39.37\"/>\n<polygon fill=\"black\" stroke=\"black\" points=\"857.24,-42.84 867.69,-41.11 858.44,-35.95 857.24,-42.84\"/>\n</g>\n<!-- 140387518389072 -->\n<g id=\"node6\" class=\"node\">\n<title>140387518389072</title>\n<polygon fill=\"none\" stroke=\"black\" points=\"320,-28.5 320,-64.5 516,-64.5 516,-28.5 320,-28.5\"/>\n<text text-anchor=\"middle\" x=\"331.5\" y=\"-42.8\" font-family=\"Times,serif\" font-size=\"14.00\">c</text>\n<polyline fill=\"none\" stroke=\"black\" points=\"343,-28.5 343,-64.5 \"/>\n<text text-anchor=\"middle\" x=\"386.5\" y=\"-42.8\" font-family=\"Times,serif\" font-size=\"14.00\">data 10.0000</text>\n<polyline fill=\"none\" stroke=\"black\" points=\"430,-28.5 430,-64.5 \"/>\n<text text-anchor=\"middle\" x=\"473\" y=\"-42.8\" font-family=\"Times,serif\" font-size=\"14.00\">grad &#45;2.0000</text>\n</g>\n<!-- 140387518389072&#45;&gt;140387518394592+ -->\n<g id=\"edge9\" class=\"edge\">\n<title>140387518389072&#45;&gt;140387518394592+</title>\n<path fill=\"none\" stroke=\"black\" d=\"M516.07,-62.98C525.42,-64.57 534.43,-66.1 542.55,-67.48\"/>\n<polygon fill=\"black\" stroke=\"black\" points=\"542.21,-70.97 552.65,-69.2 543.38,-64.07 542.21,-70.97\"/>\n</g>\n<!-- 140387518388640 -->\n<g id=\"node7\" class=\"node\">\n<title>140387518388640</title>\n<polygon fill=\"none\" stroke=\"black\" points=\"321,-83.5 321,-119.5 515,-119.5 515,-83.5 321,-83.5\"/>\n<text text-anchor=\"middle\" x=\"332.5\" y=\"-97.8\" font-family=\"Times,serif\" font-size=\"14.00\">e</text>\n<polyline fill=\"none\" stroke=\"black\" points=\"344,-83.5 344,-119.5 \"/>\n<text text-anchor=\"middle\" x=\"386.5\" y=\"-97.8\" font-family=\"Times,serif\" font-size=\"14.00\">data &#45;6.0000</text>\n<polyline fill=\"none\" stroke=\"black\" points=\"429,-83.5 429,-119.5 \"/>\n<text text-anchor=\"middle\" x=\"472\" y=\"-97.8\" font-family=\"Times,serif\" font-size=\"14.00\">grad &#45;2.0000</text>\n</g>\n<!-- 140387518388640&#45;&gt;140387518394592+ -->\n<g id=\"edge6\" class=\"edge\">\n<title>140387518388640&#45;&gt;140387518394592+</title>\n<path fill=\"none\" stroke=\"black\" d=\"M515.16,-84.57C524.82,-82.87 534.13,-81.23 542.49,-79.75\"/>\n<polygon fill=\"black\" stroke=\"black\" points=\"543.3,-83.17 552.54,-77.98 542.08,-76.27 543.3,-83.17\"/>\n</g>\n<!-- 140387518388640*&#45;&gt;140387518388640 -->\n<g id=\"edge2\" class=\"edge\">\n<title>140387518388640*&#45;&gt;140387518388640</title>\n<path fill=\"none\" stroke=\"black\" d=\"M284.26,-101.5C292.05,-101.5 301.1,-101.5 310.75,-101.5\"/>\n<polygon fill=\"black\" stroke=\"black\" points=\"310.99,-105 320.99,-101.5 310.99,-98 310.99,-105\"/>\n</g>\n<!-- 140387518391760 -->\n<g id=\"node9\" class=\"node\">\n<title>140387518391760</title>\n<polygon fill=\"none\" stroke=\"black\" points=\"957,-27.5 957,-63.5 1149,-63.5 1149,-27.5 957,-27.5\"/>\n<text text-anchor=\"middle\" x=\"969.5\" y=\"-41.8\" font-family=\"Times,serif\" font-size=\"14.00\">L</text>\n<polyline fill=\"none\" stroke=\"black\" points=\"982,-27.5 982,-63.5 \"/>\n<text text-anchor=\"middle\" x=\"1024.5\" y=\"-41.8\" font-family=\"Times,serif\" font-size=\"14.00\">data &#45;8.0000</text>\n<polyline fill=\"none\" stroke=\"black\" points=\"1067,-27.5 1067,-63.5 \"/>\n<text text-anchor=\"middle\" x=\"1108\" y=\"-41.8\" font-family=\"Times,serif\" font-size=\"14.00\">grad 1.0000</text>\n</g>\n<!-- 140387518391760*&#45;&gt;140387518391760 -->\n<g id=\"edge3\" class=\"edge\">\n<title>140387518391760*&#45;&gt;140387518391760</title>\n<path fill=\"none\" stroke=\"black\" d=\"M921.28,-45.5C928.78,-45.5 937.44,-45.5 946.67,-45.5\"/>\n<polygon fill=\"black\" stroke=\"black\" points=\"946.87,-49 956.87,-45.5 946.87,-42 946.87,-49\"/>\n</g>\n</g>\n</svg>\n",
            "text/plain": [
              "<graphviz.graphs.Digraph at 0x7fae842a1d60>"
            ]
          },
          "metadata": {},
          "execution_count": 43
        }
      ]
    },
    {
      "cell_type": "code",
      "source": [
        "# Manually Setting the Gradients so that we can validate with data\n",
        "\n",
        "L.grad = 1.0\n",
        "f.grad = 4.0\n",
        "d.grad = -2.0\n",
        "e.grad = -2.0\n",
        "c.grad = -2.0\n",
        "a.grad = 6.0\n",
        "b.grad = -4.0"
      ],
      "metadata": {
        "id": "Sbm-uHm2fOEV"
      },
      "execution_count": 42,
      "outputs": []
    },
    {
      "cell_type": "markdown",
      "source": [
        "**Notes On Gradients**\n",
        "\n",
        "1. dL/dL = 1\n",
        "\n",
        "2. **Product Rule :**\n",
        "\n",
        "    - dL/df = d  (L = f * d)\n",
        "    - dL/dd = f  (L = f * d)\n",
        "\n",
        "3. **Sum Rule :** (d = c + e)  based on sum rule differncing is always 1\n",
        "\n",
        "    - dL/dc = f  (dL/dd * dd/dc)\n",
        "    - Because dd/dc = 1 (Based on Sum rule)\n",
        "    - f * 1 = f\n",
        "    - **Sum function always acts as a Pass through. They act as a funnel through which they derivatives pass**\n",
        "    - **It distributes all the derivates**\n",
        "\n",
        "4. dL/db = a * f\n",
        "\n",
        "    - Becuase dL/db = dL/dd * dd/c * dd/de * de/db\n",
        "    - which is dL/db = f * 1 * 1 * a\n",
        "    - a * f\n",
        "    - Similarly `dL/da = b * f`\n"
      ],
      "metadata": {
        "id": "rikBozkzmpNo"
      }
    },
    {
      "cell_type": "code",
      "source": [
        "# Testing Function\n",
        "\n",
        "def lol():\n",
        "\n",
        "    h = 0.001\n",
        "\n",
        "    a = Value(2.0, label = 'a')\n",
        "    b = Value(-3.0 , label = 'b')\n",
        "    c = Value(10, label = 'c')\n",
        "\n",
        "    e = a*b; e.label = 'e'\n",
        "    d = e + c; d.label = 'd' # (a.__mul__(b)).__add__(c) Interally python call this way\n",
        "\n",
        "    f = Value(-2.0, label = 'f')\n",
        "\n",
        "    L = d * f; L.label = 'L'\n",
        "\n",
        "    L1 = L.data\n",
        "\n",
        "    # --- Now we change 'a' slightly and recalculate L ---\n",
        "    a = Value(2.0, label = 'a') # <--- Here's where we add 'h' to 'a'\n",
        "    b = Value(-3.0 + h, label = 'b')\n",
        "    c = Value(10, label = 'c')\n",
        "\n",
        "    e = a*b; e.label = 'e';# e.data = e.data + h --> testing\n",
        "    d = e + c; d.label = 'd'; #d.data = d.data + h -- Tesing\n",
        "\n",
        "    f = Value(-2.0, label = 'f')\n",
        "\n",
        "    L = d * f; L.label = 'L'\n",
        "\n",
        "    L2 = L.data\n",
        "\n",
        "    print('Derivative of L with respect to a:', (L2 - L1)/h)\n",
        "\n",
        "lol()"
      ],
      "metadata": {
        "id": "Ft5LFdtujHyt",
        "colab": {
          "base_uri": "https://localhost:8080/"
        },
        "outputId": "b91bcd3f-e6a8-4558-fa8a-0e48e82ac2e9"
      },
      "execution_count": 46,
      "outputs": [
        {
          "output_type": "stream",
          "name": "stdout",
          "text": [
            "Derivative of L with respect to a: -3.9999999999995595\n"
          ]
        }
      ]
    },
    {
      "cell_type": "markdown",
      "source": [
        "#### Observation\n",
        "\n",
        "- This derivative tells you how **sensitive the output L is to changes in the input a**. A derivative of approximately 6 means that if you increase `a` by a small amount, `L` will increase by approximately `6 times` that amount.\n",
        "\n",
        "- differnectiaing `L with respect to L` which should give `1` ideally\n",
        "\n",
        "- ex :   L1 = L.data ; L2 = L.data + h. Out = 1.0000"
      ],
      "metadata": {
        "id": "SUjtMxZcNyNv"
      }
    },
    {
      "cell_type": "code",
      "source": [
        "a.data += 0.01 * a.grad # Adjusting the Input based on the sensitivity\n",
        "b.data += 0.01 * b.grad\n",
        "c.data += 0.01 * c.grad\n",
        "f.data += 0.01 * f.grad\n",
        "\n",
        "print('a', a.data)\n",
        "print('b', b.data)\n",
        "print('c', c.data)\n",
        "print('f', f.data)\n",
        "\n",
        "e = a * b\n",
        "d = c + e\n",
        "L = f * d\n",
        "\n",
        "print(L.data)"
      ],
      "metadata": {
        "colab": {
          "base_uri": "https://localhost:8080/"
        },
        "id": "yiz-BjlSnOed",
        "outputId": "e26a2418-30fd-4866-9db2-9c5718710dec"
      },
      "execution_count": 38,
      "outputs": [
        {
          "output_type": "stream",
          "name": "stdout",
          "text": [
            "a 1.4539999999999995\n",
            "b -3.4440000000000004\n",
            "c 9.778000000000004\n",
            "f -1.5559999999999996\n",
            "-7.422779744000007\n"
          ]
        }
      ]
    },
    {
      "cell_type": "markdown",
      "source": [
        "**Key Note :**\n",
        "\n",
        "- The gradient tells you the sensitivity of the output (L) to changes in each input (a, b, c, f). By adjusting the inputs based on this sensitivity, you are making informed decisions about how to change them to achieve your optimization goal (maximizing or minimizing L).\n",
        "- **Positive gradient:** If the gradient of L with respect to an input (say, a) is positive (a.grad > 0), it means that if you increase a, L will increase.\n",
        "\n",
        "- **Negative gradient:** If the gradient of L with respect to an input (a) is negative (a.grad < 0), it means that if you increase a, L will decrease.\n",
        "\n",
        "- Conclusion (L Loss Function Output):\n",
        "\n",
        "    - **maximize** --> input.data += learning_rate * input.grad\n",
        "\n",
        "    - **minimize** --> input.data -= learning_rate * input.grad\n",
        "\n"
      ],
      "metadata": {
        "id": "UIbyqsKi82RG"
      }
    },
    {
      "cell_type": "code",
      "source": [],
      "metadata": {
        "id": "pHsnvZwPPmuZ"
      },
      "execution_count": null,
      "outputs": []
    }
  ]
}