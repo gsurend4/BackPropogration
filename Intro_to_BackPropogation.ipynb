{
  "nbformat": 4,
  "nbformat_minor": 0,
  "metadata": {
    "colab": {
      "provenance": [],
      "authorship_tag": "ABX9TyOxx/jNmMt+OxKgIFJa/TJQ",
      "include_colab_link": true
    },
    "kernelspec": {
      "name": "python3",
      "display_name": "Python 3"
    },
    "language_info": {
      "name": "python"
    }
  },
  "cells": [
    {
      "cell_type": "markdown",
      "metadata": {
        "id": "view-in-github",
        "colab_type": "text"
      },
      "source": [
        "<a href=\"https://colab.research.google.com/github/gsurend4/BackPropogration/blob/main/Intro_to_BackPropogation.ipynb\" target=\"_parent\"><img src=\"https://colab.research.google.com/assets/colab-badge.svg\" alt=\"Open In Colab\"/></a>"
      ]
    },
    {
      "cell_type": "code",
      "metadata": {
        "id": "PmS4FeTPDsw"
      },
      "source": [
        "class Value:\n",
        "    def __init__(self, data, _children=(), _op='', label = ''):\n",
        "        self.data = data\n",
        "        self._prev = set(_children)\n",
        "        self._backward = lambda : None # Setting up here just to handle the lead node\n",
        "        self._op = _op\n",
        "        self.label = label\n",
        "        self.grad = 0 # Intially setting there is no Impact of this Variable to the Output Function (loss). ex : y = 5\n",
        "\n",
        "    def __repr__(self):\n",
        "        return (f'Value(data = {self.data})')\n",
        "\n",
        "    def __add__(self, other):\n",
        "        out = Value(self.data + other.data, (self, other), '+')\n",
        "\n",
        "        def _backward():\n",
        "            # think as if you are going back from child to its parents\n",
        "\n",
        "            self.grad = 1.0 * out.grad # Since sum operator is just a distributer\n",
        "            other.grad = 1.0 * out.grad\n",
        "\n",
        "        out._backward = _backward\n",
        "\n",
        "        return out\n",
        "\n",
        "    def __mul__(self, other):\n",
        "        out =  Value(self.data * other.data, (self, other), '*')\n",
        "\n",
        "        def _backward():\n",
        "            # think as if you are going back from child to its parents\n",
        "\n",
        "            self.grad = other.data * out.grad\n",
        "            other.grad = self.data * out.grad\n",
        "\n",
        "        out._backward = _backward\n",
        "\n",
        "        return out\n",
        "\n",
        "    def tanh(self):\n",
        "        #tanh = e^x - e^-x / e^x + e^-x or tanh = (e2x − 1 / e2x +1) (There are many forms)\n",
        "        t = (math.exp(self.data) - math.exp(-self.data)) / (math.exp(self.data) + math.exp(-self.data))\n",
        "        out = Value(t, _children=(self, ) ,_op='tanh')\n",
        "\n",
        "        def _backward():\n",
        "            # dif tanh = 1 - tan**2\n",
        "            local_gradient = (1 - t**2)\n",
        "            self.grad = local_gradient * out.grad # Reverting to assignment\n",
        "\n",
        "        out._backward = _backward\n",
        "\n",
        "        return out"
      ],
      "execution_count": 1,
      "outputs": []
    },
    {
      "cell_type": "code",
      "source": [
        "a = Value(2.0, label = 'a')\n",
        "b = Value(-3.0, label = 'b')\n",
        "c = Value(10, label = 'c')\n",
        "\n",
        "e = a*b; e.label = 'e'\n",
        "d = e + c; d.label = 'd' # (a.__mul__(b)).__add__(c) Interally python call this way\n",
        "\n",
        "f = Value(-2.0, label = 'f')\n",
        "\n",
        "L = d * f; L.label = 'L'\n",
        "\n",
        "L"
      ],
      "metadata": {
        "colab": {
          "base_uri": "https://localhost:8080/"
        },
        "id": "8g72I2_bPi2W",
        "outputId": "9a0d7683-9a2e-4983-c6a3-b3337b04f251"
      },
      "execution_count": 6,
      "outputs": [
        {
          "output_type": "execute_result",
          "data": {
            "text/plain": [
              "Value(data = -8.0)"
            ]
          },
          "metadata": {},
          "execution_count": 6
        }
      ]
    },
    {
      "cell_type": "markdown",
      "source": [
        "### graphviz (Visualization)"
      ],
      "metadata": {
        "id": "AK5_MH5pqkMy"
      }
    },
    {
      "cell_type": "code",
      "source": [
        "from graphviz import Digraph\n",
        "\n",
        "def trace(root):\n",
        "  # builds a set of all nodes and edges in a graph\n",
        "  nodes, edges = set(), set()\n",
        "  def build(v):\n",
        "    if v not in nodes:\n",
        "      nodes.add(v)\n",
        "      for child in v._prev:\n",
        "        edges.add((child, v))\n",
        "        build(child)\n",
        "  build(root)\n",
        "  return nodes, edges\n",
        "\n",
        "def draw_dot(root):\n",
        "  dot = Digraph(format='svg', graph_attr={'rankdir': 'LR'}) # LR = left to right\n",
        "\n",
        "  nodes, edges = trace(root)\n",
        "  for n in nodes:\n",
        "    uid = str(id(n))\n",
        "    # for any value in the graph, create a rectangular ('record') node for it\n",
        "    dot.node(name = uid, label = \"{ %s | data %.4f | grad %.4f }\" % (n.label, n.data, n.grad), shape='record')\n",
        "    if n._op:\n",
        "      # if this value is a result of some operation, create an op node for it\n",
        "      dot.node(name = uid + n._op, label = n._op)\n",
        "      # and connect this node to it\n",
        "      dot.edge(uid + n._op, uid)\n",
        "\n",
        "  for n1, n2 in edges:\n",
        "    # connect n1 to the op node of n2\n",
        "    dot.edge(str(id(n1)), str(id(n2)) + n2._op)\n",
        "\n",
        "  return dot"
      ],
      "metadata": {
        "id": "0Yqz1TgjKJ-o"
      },
      "execution_count": 2,
      "outputs": []
    },
    {
      "cell_type": "markdown",
      "source": [
        "### Visualize"
      ],
      "metadata": {
        "id": "iuKgz7CBquqc"
      }
    },
    {
      "cell_type": "code",
      "source": [
        "draw_dot(L)"
      ],
      "metadata": {
        "colab": {
          "base_uri": "https://localhost:8080/",
          "height": 246
        },
        "id": "xjyyO3TvjFDA",
        "outputId": "9ed6f744-9724-4633-b80b-7144ae56f88b"
      },
      "execution_count": 7,
      "outputs": [
        {
          "output_type": "execute_result",
          "data": {
            "image/svg+xml": "<?xml version=\"1.0\" encoding=\"UTF-8\" standalone=\"no\"?>\n<!DOCTYPE svg PUBLIC \"-//W3C//DTD SVG 1.1//EN\"\n \"http://www.w3.org/Graphics/SVG/1.1/DTD/svg11.dtd\">\n<!-- Generated by graphviz version 2.43.0 (0)\n -->\n<!-- Title: %3 Pages: 1 -->\n<svg width=\"1148pt\" height=\"154pt\"\n viewBox=\"0.00 0.00 1148.00 154.00\" xmlns=\"http://www.w3.org/2000/svg\" xmlns:xlink=\"http://www.w3.org/1999/xlink\">\n<g id=\"graph0\" class=\"graph\" transform=\"scale(1 1) rotate(0) translate(4 150)\">\n<title>%3</title>\n<polygon fill=\"white\" stroke=\"transparent\" points=\"-4,4 -4,-150 1144,-150 1144,4 -4,4\"/>\n<!-- 133155741755408 -->\n<g id=\"node1\" class=\"node\">\n<title>133155741755408</title>\n<polygon fill=\"none\" stroke=\"black\" points=\"948,-81.5 948,-117.5 1140,-117.5 1140,-81.5 948,-81.5\"/>\n<text text-anchor=\"middle\" x=\"960.5\" y=\"-95.8\" font-family=\"Times,serif\" font-size=\"14.00\">L</text>\n<polyline fill=\"none\" stroke=\"black\" points=\"973,-81.5 973,-117.5 \"/>\n<text text-anchor=\"middle\" x=\"1015.5\" y=\"-95.8\" font-family=\"Times,serif\" font-size=\"14.00\">data &#45;8.0000</text>\n<polyline fill=\"none\" stroke=\"black\" points=\"1058,-81.5 1058,-117.5 \"/>\n<text text-anchor=\"middle\" x=\"1099\" y=\"-95.8\" font-family=\"Times,serif\" font-size=\"14.00\">grad 0.0000</text>\n</g>\n<!-- 133155741755408* -->\n<g id=\"node2\" class=\"node\">\n<title>133155741755408*</title>\n<ellipse fill=\"none\" stroke=\"black\" cx=\"885\" cy=\"-99.5\" rx=\"27\" ry=\"18\"/>\n<text text-anchor=\"middle\" x=\"885\" y=\"-95.8\" font-family=\"Times,serif\" font-size=\"14.00\">*</text>\n</g>\n<!-- 133155741755408*&#45;&gt;133155741755408 -->\n<g id=\"edge1\" class=\"edge\">\n<title>133155741755408*&#45;&gt;133155741755408</title>\n<path fill=\"none\" stroke=\"black\" d=\"M912.28,-99.5C919.78,-99.5 928.44,-99.5 937.67,-99.5\"/>\n<polygon fill=\"black\" stroke=\"black\" points=\"937.87,-103 947.87,-99.5 937.87,-96 937.87,-103\"/>\n</g>\n<!-- 133155741755120 -->\n<g id=\"node3\" class=\"node\">\n<title>133155741755120</title>\n<polygon fill=\"none\" stroke=\"black\" points=\"316,-82.5 316,-118.5 508,-118.5 508,-82.5 316,-82.5\"/>\n<text text-anchor=\"middle\" x=\"327.5\" y=\"-96.8\" font-family=\"Times,serif\" font-size=\"14.00\">c</text>\n<polyline fill=\"none\" stroke=\"black\" points=\"339,-82.5 339,-118.5 \"/>\n<text text-anchor=\"middle\" x=\"382.5\" y=\"-96.8\" font-family=\"Times,serif\" font-size=\"14.00\">data 10.0000</text>\n<polyline fill=\"none\" stroke=\"black\" points=\"426,-82.5 426,-118.5 \"/>\n<text text-anchor=\"middle\" x=\"467\" y=\"-96.8\" font-family=\"Times,serif\" font-size=\"14.00\">grad 0.0000</text>\n</g>\n<!-- 133155741755312+ -->\n<g id=\"node10\" class=\"node\">\n<title>133155741755312+</title>\n<ellipse fill=\"none\" stroke=\"black\" cx=\"571\" cy=\"-72.5\" rx=\"27\" ry=\"18\"/>\n<text text-anchor=\"middle\" x=\"571\" y=\"-68.8\" font-family=\"Times,serif\" font-size=\"14.00\">+</text>\n</g>\n<!-- 133155741755120&#45;&gt;133155741755312+ -->\n<g id=\"edge9\" class=\"edge\">\n<title>133155741755120&#45;&gt;133155741755312+</title>\n<path fill=\"none\" stroke=\"black\" d=\"M508.4,-83.49C517.69,-81.83 526.64,-80.23 534.71,-78.79\"/>\n<polygon fill=\"black\" stroke=\"black\" points=\"535.53,-82.2 544.76,-77 534.31,-75.31 535.53,-82.2\"/>\n</g>\n<!-- 133155741755216 -->\n<g id=\"node4\" class=\"node\">\n<title>133155741755216</title>\n<polygon fill=\"none\" stroke=\"black\" points=\"634,-109.5 634,-145.5 822,-145.5 822,-109.5 634,-109.5\"/>\n<text text-anchor=\"middle\" x=\"644.5\" y=\"-123.8\" font-family=\"Times,serif\" font-size=\"14.00\">f</text>\n<polyline fill=\"none\" stroke=\"black\" points=\"655,-109.5 655,-145.5 \"/>\n<text text-anchor=\"middle\" x=\"697.5\" y=\"-123.8\" font-family=\"Times,serif\" font-size=\"14.00\">data &#45;2.0000</text>\n<polyline fill=\"none\" stroke=\"black\" points=\"740,-109.5 740,-145.5 \"/>\n<text text-anchor=\"middle\" x=\"781\" y=\"-123.8\" font-family=\"Times,serif\" font-size=\"14.00\">grad 0.0000</text>\n</g>\n<!-- 133155741755216&#45;&gt;133155741755408* -->\n<g id=\"edge5\" class=\"edge\">\n<title>133155741755216&#45;&gt;133155741755408*</title>\n<path fill=\"none\" stroke=\"black\" d=\"M822.29,-110.65C831.57,-108.97 840.52,-107.35 848.61,-105.89\"/>\n<polygon fill=\"black\" stroke=\"black\" points=\"849.46,-109.3 858.68,-104.07 848.21,-102.41 849.46,-109.3\"/>\n</g>\n<!-- 133155743224160 -->\n<g id=\"node5\" class=\"node\">\n<title>133155743224160</title>\n<polygon fill=\"none\" stroke=\"black\" points=\"0,-55.5 0,-91.5 190,-91.5 190,-55.5 0,-55.5\"/>\n<text text-anchor=\"middle\" x=\"11.5\" y=\"-69.8\" font-family=\"Times,serif\" font-size=\"14.00\">b</text>\n<polyline fill=\"none\" stroke=\"black\" points=\"23,-55.5 23,-91.5 \"/>\n<text text-anchor=\"middle\" x=\"65.5\" y=\"-69.8\" font-family=\"Times,serif\" font-size=\"14.00\">data &#45;3.0000</text>\n<polyline fill=\"none\" stroke=\"black\" points=\"108,-55.5 108,-91.5 \"/>\n<text text-anchor=\"middle\" x=\"149\" y=\"-69.8\" font-family=\"Times,serif\" font-size=\"14.00\">grad 0.0000</text>\n</g>\n<!-- 133155741755264* -->\n<g id=\"node8\" class=\"node\">\n<title>133155741755264*</title>\n<ellipse fill=\"none\" stroke=\"black\" cx=\"253\" cy=\"-45.5\" rx=\"27\" ry=\"18\"/>\n<text text-anchor=\"middle\" x=\"253\" y=\"-41.8\" font-family=\"Times,serif\" font-size=\"14.00\">*</text>\n</g>\n<!-- 133155743224160&#45;&gt;133155741755264* -->\n<g id=\"edge4\" class=\"edge\">\n<title>133155743224160&#45;&gt;133155741755264*</title>\n<path fill=\"none\" stroke=\"black\" d=\"M190.34,-56.57C199.62,-54.9 208.58,-53.29 216.66,-51.84\"/>\n<polygon fill=\"black\" stroke=\"black\" points=\"217.49,-55.25 226.72,-50.04 216.26,-48.36 217.49,-55.25\"/>\n</g>\n<!-- 133155741274992 -->\n<g id=\"node6\" class=\"node\">\n<title>133155741274992</title>\n<polygon fill=\"none\" stroke=\"black\" points=\"2.5,-0.5 2.5,-36.5 187.5,-36.5 187.5,-0.5 2.5,-0.5\"/>\n<text text-anchor=\"middle\" x=\"14\" y=\"-14.8\" font-family=\"Times,serif\" font-size=\"14.00\">a</text>\n<polyline fill=\"none\" stroke=\"black\" points=\"25.5,-0.5 25.5,-36.5 \"/>\n<text text-anchor=\"middle\" x=\"65.5\" y=\"-14.8\" font-family=\"Times,serif\" font-size=\"14.00\">data 2.0000</text>\n<polyline fill=\"none\" stroke=\"black\" points=\"105.5,-0.5 105.5,-36.5 \"/>\n<text text-anchor=\"middle\" x=\"146.5\" y=\"-14.8\" font-family=\"Times,serif\" font-size=\"14.00\">grad 0.0000</text>\n</g>\n<!-- 133155741274992&#45;&gt;133155741755264* -->\n<g id=\"edge7\" class=\"edge\">\n<title>133155741274992&#45;&gt;133155741755264*</title>\n<path fill=\"none\" stroke=\"black\" d=\"M187.65,-34.36C197.94,-36.14 207.91,-37.87 216.81,-39.41\"/>\n<polygon fill=\"black\" stroke=\"black\" points=\"216.26,-42.87 226.71,-41.12 217.45,-35.97 216.26,-42.87\"/>\n</g>\n<!-- 133155741755264 -->\n<g id=\"node7\" class=\"node\">\n<title>133155741755264</title>\n<polygon fill=\"none\" stroke=\"black\" points=\"317,-27.5 317,-63.5 507,-63.5 507,-27.5 317,-27.5\"/>\n<text text-anchor=\"middle\" x=\"328.5\" y=\"-41.8\" font-family=\"Times,serif\" font-size=\"14.00\">e</text>\n<polyline fill=\"none\" stroke=\"black\" points=\"340,-27.5 340,-63.5 \"/>\n<text text-anchor=\"middle\" x=\"382.5\" y=\"-41.8\" font-family=\"Times,serif\" font-size=\"14.00\">data &#45;6.0000</text>\n<polyline fill=\"none\" stroke=\"black\" points=\"425,-27.5 425,-63.5 \"/>\n<text text-anchor=\"middle\" x=\"466\" y=\"-41.8\" font-family=\"Times,serif\" font-size=\"14.00\">grad 0.0000</text>\n</g>\n<!-- 133155741755264&#45;&gt;133155741755312+ -->\n<g id=\"edge8\" class=\"edge\">\n<title>133155741755264&#45;&gt;133155741755312+</title>\n<path fill=\"none\" stroke=\"black\" d=\"M507.05,-61.67C516.78,-63.35 526.18,-64.96 534.62,-66.42\"/>\n<polygon fill=\"black\" stroke=\"black\" points=\"534.3,-69.91 544.75,-68.16 535.49,-63.01 534.3,-69.91\"/>\n</g>\n<!-- 133155741755264*&#45;&gt;133155741755264 -->\n<g id=\"edge2\" class=\"edge\">\n<title>133155741755264*&#45;&gt;133155741755264</title>\n<path fill=\"none\" stroke=\"black\" d=\"M280.28,-45.5C288.05,-45.5 297.08,-45.5 306.68,-45.5\"/>\n<polygon fill=\"black\" stroke=\"black\" points=\"306.88,-49 316.88,-45.5 306.88,-42 306.88,-49\"/>\n</g>\n<!-- 133155741755312 -->\n<g id=\"node9\" class=\"node\">\n<title>133155741755312</title>\n<polygon fill=\"none\" stroke=\"black\" points=\"635.5,-54.5 635.5,-90.5 820.5,-90.5 820.5,-54.5 635.5,-54.5\"/>\n<text text-anchor=\"middle\" x=\"647\" y=\"-68.8\" font-family=\"Times,serif\" font-size=\"14.00\">d</text>\n<polyline fill=\"none\" stroke=\"black\" points=\"658.5,-54.5 658.5,-90.5 \"/>\n<text text-anchor=\"middle\" x=\"698.5\" y=\"-68.8\" font-family=\"Times,serif\" font-size=\"14.00\">data 4.0000</text>\n<polyline fill=\"none\" stroke=\"black\" points=\"738.5,-54.5 738.5,-90.5 \"/>\n<text text-anchor=\"middle\" x=\"779.5\" y=\"-68.8\" font-family=\"Times,serif\" font-size=\"14.00\">grad 0.0000</text>\n</g>\n<!-- 133155741755312&#45;&gt;133155741755408* -->\n<g id=\"edge6\" class=\"edge\">\n<title>133155741755312&#45;&gt;133155741755408*</title>\n<path fill=\"none\" stroke=\"black\" d=\"M820.51,-88.44C830.48,-90.18 840.13,-91.86 848.77,-93.36\"/>\n<polygon fill=\"black\" stroke=\"black\" points=\"848.31,-96.84 858.77,-95.1 849.52,-89.94 848.31,-96.84\"/>\n</g>\n<!-- 133155741755312+&#45;&gt;133155741755312 -->\n<g id=\"edge3\" class=\"edge\">\n<title>133155741755312+&#45;&gt;133155741755312</title>\n<path fill=\"none\" stroke=\"black\" d=\"M598.29,-72.5C606.26,-72.5 615.54,-72.5 625.39,-72.5\"/>\n<polygon fill=\"black\" stroke=\"black\" points=\"625.41,-76 635.41,-72.5 625.41,-69 625.41,-76\"/>\n</g>\n</g>\n</svg>\n",
            "text/plain": [
              "<graphviz.graphs.Digraph at 0x791abcd56210>"
            ]
          },
          "metadata": {},
          "execution_count": 7
        }
      ]
    },
    {
      "cell_type": "code",
      "source": [
        "# Manually Setting the Gradients so that we can validate with data\n",
        "\n",
        "L.grad = 1.0\n",
        "f.grad = 4.0\n",
        "d.grad = -2.0\n",
        "e.grad = -2.0\n",
        "c.grad = -2.0\n",
        "a.grad = 6.0\n",
        "b.grad = -4.0"
      ],
      "metadata": {
        "id": "Sbm-uHm2fOEV"
      },
      "execution_count": null,
      "outputs": []
    },
    {
      "cell_type": "markdown",
      "source": [
        "**Notes On Gradients**\n",
        "\n",
        "1. dL/dL = 1\n",
        "\n",
        "2. **Product Rule :**\n",
        "\n",
        "    - dL/df = d  (L = f * d)\n",
        "    - dL/dd = f  (L = f * d)\n",
        "\n",
        "3. **Sum Rule :** (d = c + e)  based on sum rule differncing is always 1\n",
        "\n",
        "    - dL/dc = f  (dL/dd * dd/dc)\n",
        "    - Because dd/dc = 1 (Based on Sum rule)\n",
        "    - f * 1 = f\n",
        "    - **Sum function always acts as a Pass through. They act as a funnel through which they derivatives pass**\n",
        "    - **It distributes all the derivates**\n",
        "\n",
        "4. dL/db = a * f\n",
        "\n",
        "    - Becuase dL/db = dL/dd * dd/c * dd/de * de/db\n",
        "    - which is dL/db = f * 1 * 1 * a\n",
        "    - a * f\n",
        "    - Similarly `dL/da = b * f`\n"
      ],
      "metadata": {
        "id": "rikBozkzmpNo"
      }
    },
    {
      "cell_type": "code",
      "source": [
        "# Testing Function\n",
        "\n",
        "def lol():\n",
        "\n",
        "    h = 0.001\n",
        "\n",
        "    a = Value(2.0, label = 'a')\n",
        "    b = Value(-3.0 , label = 'b')\n",
        "    c = Value(10, label = 'c')\n",
        "\n",
        "    e = a*b; e.label = 'e'\n",
        "    d = e + c; d.label = 'd' # (a.__mul__(b)).__add__(c) Interally python call this way\n",
        "\n",
        "    f = Value(-2.0, label = 'f')\n",
        "\n",
        "    L = d * f; L.label = 'L'\n",
        "\n",
        "    L1 = L.data\n",
        "\n",
        "    # --- Now we change 'a' slightly and recalculate L ---\n",
        "    a = Value(2.0, label = 'a') # <--- Here's where we add 'h' to 'a'\n",
        "    b = Value(-3.0 + h, label = 'b')\n",
        "    c = Value(10, label = 'c')\n",
        "\n",
        "    e = a*b; e.label = 'e';# e.data = e.data + h --> testing\n",
        "    d = e + c; d.label = 'd'; #d.data = d.data + h -- Tesing\n",
        "\n",
        "    f = Value(-2.0, label = 'f')\n",
        "\n",
        "    L = d * f; L.label = 'L'\n",
        "\n",
        "    L2 = L.data\n",
        "\n",
        "    print('Derivative of L with respect to a:', (L2 - L1)/h)\n",
        "\n",
        "lol()"
      ],
      "metadata": {
        "id": "Ft5LFdtujHyt"
      },
      "execution_count": null,
      "outputs": []
    },
    {
      "cell_type": "markdown",
      "source": [
        "#### Observation\n",
        "\n",
        "- This derivative tells you how **sensitive the output L is to changes in the input a**. A derivative of approximately 6 means that if you increase `a` by a small amount, `L` will increase by approximately `6 times` that amount.\n",
        "\n",
        "- differnectiaing `L with respect to L` which should give `1` ideally\n",
        "\n",
        "- ex :   L1 = L.data ; L2 = L.data + h. Out = 1.0000"
      ],
      "metadata": {
        "id": "SUjtMxZcNyNv"
      }
    },
    {
      "cell_type": "code",
      "source": [
        "a.data += 0.01 * a.grad # Adjusting the Input based on the sensitivity\n",
        "b.data += 0.01 * b.grad\n",
        "c.data += 0.01 * c.grad\n",
        "f.data += 0.01 * f.grad\n",
        "\n",
        "print('a', a.data)\n",
        "print('b', b.data)\n",
        "print('c', c.data)\n",
        "print('f', f.data)\n",
        "\n",
        "e = a * b\n",
        "d = c + e\n",
        "L = f * d\n",
        "\n",
        "print(L.data)"
      ],
      "metadata": {
        "id": "yiz-BjlSnOed"
      },
      "execution_count": null,
      "outputs": []
    },
    {
      "cell_type": "markdown",
      "source": [
        "**Key Note :**\n",
        "\n",
        "- The gradient tells you the sensitivity of the output (L) to changes in each input (a, b, c, f). By adjusting the inputs based on this sensitivity, you are making informed decisions about how to change them to achieve your optimization goal (maximizing or minimizing L).\n",
        "- **Positive gradient:** If the gradient of L with respect to an input (say, a) is positive (a.grad > 0), it means that if you increase a, L will increase.\n",
        "\n",
        "- **Negative gradient:** If the gradient of L with respect to an input (a) is negative (a.grad < 0), it means that if you increase a, L will decrease.\n",
        "\n",
        "- Conclusion (L Loss Function Output):\n",
        "\n",
        "    - **maximize** --> input.data += learning_rate * input.grad\n",
        "\n",
        "    - **minimize** --> input.data -= learning_rate * input.grad\n",
        "\n"
      ],
      "metadata": {
        "id": "UIbyqsKi82RG"
      }
    },
    {
      "cell_type": "code",
      "source": [
        "# tanh plot\n",
        "\n",
        "import numpy as np\n",
        "import matplotlib.pyplot as plt\n",
        "import math"
      ],
      "metadata": {
        "id": "pHsnvZwPPmuZ"
      },
      "execution_count": 4,
      "outputs": []
    },
    {
      "cell_type": "code",
      "source": [
        "plt.plot(np.arange(-5,5,0.25), np.tanh(np.arange(-5,5,0.25)))\n",
        "\n",
        "plt.grid()"
      ],
      "metadata": {
        "colab": {
          "base_uri": "https://localhost:8080/",
          "height": 430
        },
        "id": "DuMMsqAC84U_",
        "outputId": "bdda3828-86af-4039-99fc-e8cc5cb2fb7a"
      },
      "execution_count": 5,
      "outputs": [
        {
          "output_type": "display_data",
          "data": {
            "text/plain": [
              "<Figure size 640x480 with 1 Axes>"
            ],
            "image/png": "[encoded data removed]"
          },
          "metadata": {}
        }
      ]
    },
    {
      "cell_type": "markdown",
      "source": [
        "## Single Neural Network example"
      ],
      "metadata": {
        "id": "YqRwS_899MEb"
      }
    },
    {
      "cell_type": "markdown",
      "source": [
        "**Tanh - Visualization**\n",
        "\n",
        "Reference : https://www.geeksforgeeks.org/deep-learning/tanh-activation-in-neural-network/"
      ],
      "metadata": {
        "id": "JJBpbxANOQ74"
      }
    },
    {
      "cell_type": "markdown",
      "metadata": {
        "id": "a794c9bd"
      },
      "source": [
        "<img src=\"https://media.geeksforgeeks.org/wp-content/uploads/20250214171817652462/tanh.png\" width=700>\n",
        "\n",
        "<img src=\"https://media.geeksforgeeks.org/wp-content/uploads/20250214175348702686/Derivative-of-Tanh-.png\" width=700>"
      ]
    },
    {
      "cell_type": "code",
      "source": [
        "# Inputs x1 & x2\n",
        "x1 = Value(2.0, label='x1')\n",
        "x2 = Value(0.0, label='x2')\n",
        "\n",
        "# Weights w1 & w2\n",
        "w1 = Value(-3.0, label='w1')\n",
        "w2 = Value(1.0, label='w2')\n",
        "\n",
        "# bias\n",
        "b1 = Value(6.8813735870195432, label = 'b1')\n",
        "\n",
        "# Layer1\n",
        "x1w1 = x1 * w1; x1w1.label = 'x1w1'\n",
        "x2w2 = x2 * w2; x2w2.label = 'x2w2'\n",
        "\n",
        "#Hidden layer calculation\n",
        "x1w1x2w2 = x1w1 + x2w2; x1w1x2w2.label = 'x1w1x2w2'\n",
        "\n",
        "#Hidden Layer + Bias\n",
        "n = x1w1x2w2 + b1; n.label = 'n'\n",
        "\n",
        "#Activation function (tanh)\n",
        "o = n.tanh(); o.label = 'o'\n",
        "\n",
        "o"
      ],
      "metadata": {
        "colab": {
          "base_uri": "https://localhost:8080/"
        },
        "id": "-zT5mUqOJTNe",
        "outputId": "c06e3b8b-ff1e-4428-f966-d33d05c3afd5"
      },
      "execution_count": 6,
      "outputs": [
        {
          "output_type": "execute_result",
          "data": {
            "text/plain": [
              "Value(data = 0.7071067811865477)"
            ]
          },
          "metadata": {},
          "execution_count": 6
        }
      ]
    },
    {
      "cell_type": "code",
      "source": [
        "# calculating gradient Manually\n",
        "\n",
        "o.grad = 1.0\n",
        "n.grad = 1 - o.data**2\n",
        "x1w1x2w2.grad = n.grad\n",
        "b1.grad = n.grad\n",
        "x2w2.grad =  x1w1x2w2.grad # + operators are distributers\n",
        "x1w1.grad = x1w1x2w2.grad\n",
        "w2.grad = x2.data * x2w2.grad\n",
        "x2.grad = w2.data * x2w2.grad\n",
        "w1.grad = x1.data * x1w1.grad\n",
        "x1.grad = w1.data * x1w1.grad\n",
        "\n",
        "# Local Derivative of a tanh\n",
        "# do/dn = d(tanh)/dn --> 1 - tanh**2\n",
        "# do/dn = 1 - o**2"
      ],
      "metadata": {
        "id": "ZIXOaaw3UM3r"
      },
      "execution_count": null,
      "outputs": []
    },
    {
      "cell_type": "code",
      "source": [
        "draw_dot(o)"
      ],
      "metadata": {
        "colab": {
          "base_uri": "https://localhost:8080/",
          "height": 321
        },
        "id": "zzfP6VSnLsuv",
        "outputId": "bc91dde8-a834-472d-9cf8-9c4eb71292c2"
      },
      "execution_count": 18,
      "outputs": [
        {
          "output_type": "execute_result",
          "data": {
            "image/svg+xml": "<?xml version=\"1.0\" encoding=\"UTF-8\" standalone=\"no\"?>\n<!DOCTYPE svg PUBLIC \"-//W3C//DTD SVG 1.1//EN\"\n \"http://www.w3.org/Graphics/SVG/1.1/DTD/svg11.dtd\">\n<!-- Generated by graphviz version 2.43.0 (0)\n -->\n<!-- Title: %3 Pages: 1 -->\n<svg width=\"1540pt\" height=\"210pt\"\n viewBox=\"0.00 0.00 1540.00 210.00\" xmlns=\"http://www.w3.org/2000/svg\" xmlns:xlink=\"http://www.w3.org/1999/xlink\">\n<g id=\"graph0\" class=\"graph\" transform=\"scale(1 1) rotate(0) translate(4 206)\">\n<title>%3</title>\n<polygon fill=\"white\" stroke=\"transparent\" points=\"-4,4 -4,-206 1536,-206 1536,4 -4,4\"/>\n<!-- 139172029043712 -->\n<g id=\"node1\" class=\"node\">\n<title>139172029043712</title>\n<polygon fill=\"none\" stroke=\"black\" points=\"328.5,-55.5 328.5,-91.5 537.5,-91.5 537.5,-55.5 328.5,-55.5\"/>\n<text text-anchor=\"middle\" x=\"352\" y=\"-69.8\" font-family=\"Times,serif\" font-size=\"14.00\">x2w2</text>\n<polyline fill=\"none\" stroke=\"black\" points=\"375.5,-55.5 375.5,-91.5 \"/>\n<text text-anchor=\"middle\" x=\"415.5\" y=\"-69.8\" font-family=\"Times,serif\" font-size=\"14.00\">data 0.0000</text>\n<polyline fill=\"none\" stroke=\"black\" points=\"455.5,-55.5 455.5,-91.5 \"/>\n<text text-anchor=\"middle\" x=\"496.5\" y=\"-69.8\" font-family=\"Times,serif\" font-size=\"14.00\">grad 0.5000</text>\n</g>\n<!-- 139172029041696+ -->\n<g id=\"node4\" class=\"node\">\n<title>139172029041696+</title>\n<ellipse fill=\"none\" stroke=\"black\" cx=\"603\" cy=\"-100.5\" rx=\"27\" ry=\"18\"/>\n<text text-anchor=\"middle\" x=\"603\" y=\"-96.8\" font-family=\"Times,serif\" font-size=\"14.00\">+</text>\n</g>\n<!-- 139172029043712&#45;&gt;139172029041696+ -->\n<g id=\"edge8\" class=\"edge\">\n<title>139172029043712&#45;&gt;139172029041696+</title>\n<path fill=\"none\" stroke=\"black\" d=\"M537.53,-90.14C547.8,-91.79 557.66,-93.37 566.45,-94.79\"/>\n<polygon fill=\"black\" stroke=\"black\" points=\"566.16,-98.28 576.59,-96.42 567.27,-91.37 566.16,-98.28\"/>\n</g>\n<!-- 139172029043712* -->\n<g id=\"node2\" class=\"node\">\n<title>139172029043712*</title>\n<ellipse fill=\"none\" stroke=\"black\" cx=\"263\" cy=\"-73.5\" rx=\"27\" ry=\"18\"/>\n<text text-anchor=\"middle\" x=\"263\" y=\"-69.8\" font-family=\"Times,serif\" font-size=\"14.00\">*</text>\n</g>\n<!-- 139172029043712*&#45;&gt;139172029043712 -->\n<g id=\"edge1\" class=\"edge\">\n<title>139172029043712*&#45;&gt;139172029043712</title>\n<path fill=\"none\" stroke=\"black\" d=\"M290.25,-73.5C298.43,-73.5 308.03,-73.5 318.31,-73.5\"/>\n<polygon fill=\"black\" stroke=\"black\" points=\"318.35,-77 328.35,-73.5 318.35,-70 318.35,-77\"/>\n</g>\n<!-- 139172029041696 -->\n<g id=\"node3\" class=\"node\">\n<title>139172029041696</title>\n<polygon fill=\"none\" stroke=\"black\" points=\"666,-82.5 666,-118.5 910,-118.5 910,-82.5 666,-82.5\"/>\n<text text-anchor=\"middle\" x=\"704.5\" y=\"-96.8\" font-family=\"Times,serif\" font-size=\"14.00\">x1w1x2w2</text>\n<polyline fill=\"none\" stroke=\"black\" points=\"743,-82.5 743,-118.5 \"/>\n<text text-anchor=\"middle\" x=\"785.5\" y=\"-96.8\" font-family=\"Times,serif\" font-size=\"14.00\">data &#45;6.0000</text>\n<polyline fill=\"none\" stroke=\"black\" points=\"828,-82.5 828,-118.5 \"/>\n<text text-anchor=\"middle\" x=\"869\" y=\"-96.8\" font-family=\"Times,serif\" font-size=\"14.00\">grad 0.5000</text>\n</g>\n<!-- 139172029052352+ -->\n<g id=\"node14\" class=\"node\">\n<title>139172029052352+</title>\n<ellipse fill=\"none\" stroke=\"black\" cx=\"973\" cy=\"-127.5\" rx=\"27\" ry=\"18\"/>\n<text text-anchor=\"middle\" x=\"973\" y=\"-123.8\" font-family=\"Times,serif\" font-size=\"14.00\">+</text>\n</g>\n<!-- 139172029041696&#45;&gt;139172029052352+ -->\n<g id=\"edge12\" class=\"edge\">\n<title>139172029041696&#45;&gt;139172029052352+</title>\n<path fill=\"none\" stroke=\"black\" d=\"M910.04,-118.36C919.47,-119.75 928.43,-121.07 936.46,-122.26\"/>\n<polygon fill=\"black\" stroke=\"black\" points=\"936.03,-125.73 946.43,-123.73 937.05,-118.81 936.03,-125.73\"/>\n</g>\n<!-- 139172029041696+&#45;&gt;139172029041696 -->\n<g id=\"edge2\" class=\"edge\">\n<title>139172029041696+&#45;&gt;139172029041696</title>\n<path fill=\"none\" stroke=\"black\" d=\"M630.22,-100.5C637.7,-100.5 646.4,-100.5 655.79,-100.5\"/>\n<polygon fill=\"black\" stroke=\"black\" points=\"655.8,-104 665.8,-100.5 655.8,-97 655.8,-104\"/>\n</g>\n<!-- 139172029054512 -->\n<g id=\"node5\" class=\"node\">\n<title>139172029054512</title>\n<polygon fill=\"none\" stroke=\"black\" points=\"2.5,-55.5 2.5,-91.5 197.5,-91.5 197.5,-55.5 2.5,-55.5\"/>\n<text text-anchor=\"middle\" x=\"19\" y=\"-69.8\" font-family=\"Times,serif\" font-size=\"14.00\">w2</text>\n<polyline fill=\"none\" stroke=\"black\" points=\"35.5,-55.5 35.5,-91.5 \"/>\n<text text-anchor=\"middle\" x=\"75.5\" y=\"-69.8\" font-family=\"Times,serif\" font-size=\"14.00\">data 1.0000</text>\n<polyline fill=\"none\" stroke=\"black\" points=\"115.5,-55.5 115.5,-91.5 \"/>\n<text text-anchor=\"middle\" x=\"156.5\" y=\"-69.8\" font-family=\"Times,serif\" font-size=\"14.00\">grad 0.0000</text>\n</g>\n<!-- 139172029054512&#45;&gt;139172029043712* -->\n<g id=\"edge14\" class=\"edge\">\n<title>139172029054512&#45;&gt;139172029043712*</title>\n<path fill=\"none\" stroke=\"black\" d=\"M197.91,-73.5C207.65,-73.5 217.05,-73.5 225.52,-73.5\"/>\n<polygon fill=\"black\" stroke=\"black\" points=\"225.7,-77 235.7,-73.5 225.7,-70 225.7,-77\"/>\n</g>\n<!-- 139172029047456 -->\n<g id=\"node6\" class=\"node\">\n<title>139172029047456</title>\n<polygon fill=\"none\" stroke=\"black\" points=\"326,-110.5 326,-146.5 540,-146.5 540,-110.5 326,-110.5\"/>\n<text text-anchor=\"middle\" x=\"349.5\" y=\"-124.8\" font-family=\"Times,serif\" font-size=\"14.00\">x1w1</text>\n<polyline fill=\"none\" stroke=\"black\" points=\"373,-110.5 373,-146.5 \"/>\n<text text-anchor=\"middle\" x=\"415.5\" y=\"-124.8\" font-family=\"Times,serif\" font-size=\"14.00\">data &#45;6.0000</text>\n<polyline fill=\"none\" stroke=\"black\" points=\"458,-110.5 458,-146.5 \"/>\n<text text-anchor=\"middle\" x=\"499\" y=\"-124.8\" font-family=\"Times,serif\" font-size=\"14.00\">grad 0.5000</text>\n</g>\n<!-- 139172029047456&#45;&gt;139172029041696+ -->\n<g id=\"edge11\" class=\"edge\">\n<title>139172029047456&#45;&gt;139172029041696+</title>\n<path fill=\"none\" stroke=\"black\" d=\"M540.4,-110.77C549.72,-109.21 558.65,-107.72 566.68,-106.39\"/>\n<polygon fill=\"black\" stroke=\"black\" points=\"567.38,-109.82 576.66,-104.72 566.22,-102.91 567.38,-109.82\"/>\n</g>\n<!-- 139172029047456* -->\n<g id=\"node7\" class=\"node\">\n<title>139172029047456*</title>\n<ellipse fill=\"none\" stroke=\"black\" cx=\"263\" cy=\"-128.5\" rx=\"27\" ry=\"18\"/>\n<text text-anchor=\"middle\" x=\"263\" y=\"-124.8\" font-family=\"Times,serif\" font-size=\"14.00\">*</text>\n</g>\n<!-- 139172029047456*&#45;&gt;139172029047456 -->\n<g id=\"edge3\" class=\"edge\">\n<title>139172029047456*&#45;&gt;139172029047456</title>\n<path fill=\"none\" stroke=\"black\" d=\"M290.25,-128.5C297.7,-128.5 306.34,-128.5 315.59,-128.5\"/>\n<polygon fill=\"black\" stroke=\"black\" points=\"315.84,-132 325.84,-128.5 315.84,-125 315.84,-132\"/>\n</g>\n<!-- 139172029041840 -->\n<g id=\"node8\" class=\"node\">\n<title>139172029041840</title>\n<polygon fill=\"none\" stroke=\"black\" points=\"1347,-109.5 1347,-145.5 1532,-145.5 1532,-109.5 1347,-109.5\"/>\n<text text-anchor=\"middle\" x=\"1358.5\" y=\"-123.8\" font-family=\"Times,serif\" font-size=\"14.00\">o</text>\n<polyline fill=\"none\" stroke=\"black\" points=\"1370,-109.5 1370,-145.5 \"/>\n<text text-anchor=\"middle\" x=\"1410\" y=\"-123.8\" font-family=\"Times,serif\" font-size=\"14.00\">data 0.7071</text>\n<polyline fill=\"none\" stroke=\"black\" points=\"1450,-109.5 1450,-145.5 \"/>\n<text text-anchor=\"middle\" x=\"1491\" y=\"-123.8\" font-family=\"Times,serif\" font-size=\"14.00\">grad 1.0000</text>\n</g>\n<!-- 139172029041840tanh -->\n<g id=\"node9\" class=\"node\">\n<title>139172029041840tanh</title>\n<ellipse fill=\"none\" stroke=\"black\" cx=\"1284\" cy=\"-127.5\" rx=\"27\" ry=\"18\"/>\n<text text-anchor=\"middle\" x=\"1284\" y=\"-123.8\" font-family=\"Times,serif\" font-size=\"14.00\">tanh</text>\n</g>\n<!-- 139172029041840tanh&#45;&gt;139172029041840 -->\n<g id=\"edge4\" class=\"edge\">\n<title>139172029041840tanh&#45;&gt;139172029041840</title>\n<path fill=\"none\" stroke=\"black\" d=\"M1311.04,-127.5C1318.58,-127.5 1327.3,-127.5 1336.57,-127.5\"/>\n<polygon fill=\"black\" stroke=\"black\" points=\"1336.81,-131 1346.81,-127.5 1336.81,-124 1336.81,-131\"/>\n</g>\n<!-- 139172029046448 -->\n<g id=\"node10\" class=\"node\">\n<title>139172029046448</title>\n<polygon fill=\"none\" stroke=\"black\" points=\"2,-165.5 2,-201.5 198,-201.5 198,-165.5 2,-165.5\"/>\n<text text-anchor=\"middle\" x=\"17\" y=\"-179.8\" font-family=\"Times,serif\" font-size=\"14.00\">x1</text>\n<polyline fill=\"none\" stroke=\"black\" points=\"32,-165.5 32,-201.5 \"/>\n<text text-anchor=\"middle\" x=\"72\" y=\"-179.8\" font-family=\"Times,serif\" font-size=\"14.00\">data 2.0000</text>\n<polyline fill=\"none\" stroke=\"black\" points=\"112,-165.5 112,-201.5 \"/>\n<text text-anchor=\"middle\" x=\"155\" y=\"-179.8\" font-family=\"Times,serif\" font-size=\"14.00\">grad &#45;1.5000</text>\n</g>\n<!-- 139172029046448&#45;&gt;139172029047456* -->\n<g id=\"edge9\" class=\"edge\">\n<title>139172029046448&#45;&gt;139172029047456*</title>\n<path fill=\"none\" stroke=\"black\" d=\"M172.53,-165.44C181.84,-162.67 191.2,-159.67 200,-156.5 210.53,-152.71 221.75,-147.9 231.72,-143.33\"/>\n<polygon fill=\"black\" stroke=\"black\" points=\"233.25,-146.48 240.82,-139.07 230.28,-140.14 233.25,-146.48\"/>\n</g>\n<!-- 139172029042080 -->\n<g id=\"node11\" class=\"node\">\n<title>139172029042080</title>\n<polygon fill=\"none\" stroke=\"black\" points=\"4,-0.5 4,-36.5 196,-36.5 196,-0.5 4,-0.5\"/>\n<text text-anchor=\"middle\" x=\"19\" y=\"-14.8\" font-family=\"Times,serif\" font-size=\"14.00\">x2</text>\n<polyline fill=\"none\" stroke=\"black\" points=\"34,-0.5 34,-36.5 \"/>\n<text text-anchor=\"middle\" x=\"74\" y=\"-14.8\" font-family=\"Times,serif\" font-size=\"14.00\">data 0.0000</text>\n<polyline fill=\"none\" stroke=\"black\" points=\"114,-0.5 114,-36.5 \"/>\n<text text-anchor=\"middle\" x=\"155\" y=\"-14.8\" font-family=\"Times,serif\" font-size=\"14.00\">grad 0.5000</text>\n</g>\n<!-- 139172029042080&#45;&gt;139172029043712* -->\n<g id=\"edge7\" class=\"edge\">\n<title>139172029042080&#45;&gt;139172029043712*</title>\n<path fill=\"none\" stroke=\"black\" d=\"M169.28,-36.5C179.65,-39.61 190.16,-42.98 200,-46.5 210.28,-50.17 221.28,-54.74 231.11,-59.07\"/>\n<polygon fill=\"black\" stroke=\"black\" points=\"229.93,-62.37 240.48,-63.27 232.79,-55.99 229.93,-62.37\"/>\n</g>\n<!-- 139172029051824 -->\n<g id=\"node12\" class=\"node\">\n<title>139172029051824</title>\n<polygon fill=\"none\" stroke=\"black\" points=\"0,-110.5 0,-146.5 200,-146.5 200,-110.5 0,-110.5\"/>\n<text text-anchor=\"middle\" x=\"16.5\" y=\"-124.8\" font-family=\"Times,serif\" font-size=\"14.00\">w1</text>\n<polyline fill=\"none\" stroke=\"black\" points=\"33,-110.5 33,-146.5 \"/>\n<text text-anchor=\"middle\" x=\"75.5\" y=\"-124.8\" font-family=\"Times,serif\" font-size=\"14.00\">data &#45;3.0000</text>\n<polyline fill=\"none\" stroke=\"black\" points=\"118,-110.5 118,-146.5 \"/>\n<text text-anchor=\"middle\" x=\"159\" y=\"-124.8\" font-family=\"Times,serif\" font-size=\"14.00\">grad 1.0000</text>\n</g>\n<!-- 139172029051824&#45;&gt;139172029047456* -->\n<g id=\"edge10\" class=\"edge\">\n<title>139172029051824&#45;&gt;139172029047456*</title>\n<path fill=\"none\" stroke=\"black\" d=\"M200.21,-128.5C209.2,-128.5 217.86,-128.5 225.7,-128.5\"/>\n<polygon fill=\"black\" stroke=\"black\" points=\"225.85,-132 235.85,-128.5 225.85,-125 225.85,-132\"/>\n</g>\n<!-- 139172029052352 -->\n<g id=\"node13\" class=\"node\">\n<title>139172029052352</title>\n<polygon fill=\"none\" stroke=\"black\" points=\"1036,-109.5 1036,-145.5 1221,-145.5 1221,-109.5 1036,-109.5\"/>\n<text text-anchor=\"middle\" x=\"1047.5\" y=\"-123.8\" font-family=\"Times,serif\" font-size=\"14.00\">n</text>\n<polyline fill=\"none\" stroke=\"black\" points=\"1059,-109.5 1059,-145.5 \"/>\n<text text-anchor=\"middle\" x=\"1099\" y=\"-123.8\" font-family=\"Times,serif\" font-size=\"14.00\">data 0.8814</text>\n<polyline fill=\"none\" stroke=\"black\" points=\"1139,-109.5 1139,-145.5 \"/>\n<text text-anchor=\"middle\" x=\"1180\" y=\"-123.8\" font-family=\"Times,serif\" font-size=\"14.00\">grad 0.5000</text>\n</g>\n<!-- 139172029052352&#45;&gt;139172029041840tanh -->\n<g id=\"edge6\" class=\"edge\">\n<title>139172029052352&#45;&gt;139172029041840tanh</title>\n<path fill=\"none\" stroke=\"black\" d=\"M1221.01,-127.5C1230.01,-127.5 1238.74,-127.5 1246.66,-127.5\"/>\n<polygon fill=\"black\" stroke=\"black\" points=\"1246.91,-131 1256.91,-127.5 1246.91,-124 1246.91,-131\"/>\n</g>\n<!-- 139172029052352+&#45;&gt;139172029052352 -->\n<g id=\"edge5\" class=\"edge\">\n<title>139172029052352+&#45;&gt;139172029052352</title>\n<path fill=\"none\" stroke=\"black\" d=\"M1000.04,-127.5C1007.58,-127.5 1016.3,-127.5 1025.57,-127.5\"/>\n<polygon fill=\"black\" stroke=\"black\" points=\"1025.81,-131 1035.81,-127.5 1025.81,-124 1025.81,-131\"/>\n</g>\n<!-- 139172029045728 -->\n<g id=\"node15\" class=\"node\">\n<title>139172029045728</title>\n<polygon fill=\"none\" stroke=\"black\" points=\"692,-137.5 692,-173.5 884,-173.5 884,-137.5 692,-137.5\"/>\n<text text-anchor=\"middle\" x=\"707\" y=\"-151.8\" font-family=\"Times,serif\" font-size=\"14.00\">b1</text>\n<polyline fill=\"none\" stroke=\"black\" points=\"722,-137.5 722,-173.5 \"/>\n<text text-anchor=\"middle\" x=\"762\" y=\"-151.8\" font-family=\"Times,serif\" font-size=\"14.00\">data 6.8814</text>\n<polyline fill=\"none\" stroke=\"black\" points=\"802,-137.5 802,-173.5 \"/>\n<text text-anchor=\"middle\" x=\"843\" y=\"-151.8\" font-family=\"Times,serif\" font-size=\"14.00\">grad 0.5000</text>\n</g>\n<!-- 139172029045728&#45;&gt;139172029052352+ -->\n<g id=\"edge13\" class=\"edge\">\n<title>139172029045728&#45;&gt;139172029052352+</title>\n<path fill=\"none\" stroke=\"black\" d=\"M884.25,-140.93C902.88,-138.08 921.3,-135.26 936.42,-132.94\"/>\n<polygon fill=\"black\" stroke=\"black\" points=\"936.96,-136.4 946.32,-131.43 935.91,-129.48 936.96,-136.4\"/>\n</g>\n</g>\n</svg>\n",
            "text/plain": [
              "<graphviz.graphs.Digraph at 0x7e93835779e0>"
            ]
          },
          "metadata": {},
          "execution_count": 18
        }
      ]
    },
    {
      "cell_type": "markdown",
      "source": [
        "**Important Note**\n",
        "\n",
        "When you call the _backward() function on a Value object, its primary responsibility is to update the grad attribute of its parent(s) in the computation graph."
      ],
      "metadata": {
        "id": "c4f8UWNC4cN_"
      }
    },
    {
      "cell_type": "code",
      "metadata": {
        "id": "8fa8dfc9"
      },
      "source": [
        "# Automating in finding the local gradient\n",
        "\n",
        "o.grad = 1.0 # Since we need current notes gradient to update the parent (Chain rule)\n",
        "\n",
        "o._backward()\n",
        "\n",
        "n._backward()\n",
        "\n",
        "x1w1x2w2._backward()\n",
        "\n",
        "x1w1._backward()\n",
        "\n",
        "x2w2._backward()"
      ],
      "execution_count": 17,
      "outputs": []
    },
    {
      "cell_type": "code",
      "source": [],
      "metadata": {
        "id": "OfHHgxyqP8XT"
      },
      "execution_count": null,
      "outputs": []
    }
  ]
}